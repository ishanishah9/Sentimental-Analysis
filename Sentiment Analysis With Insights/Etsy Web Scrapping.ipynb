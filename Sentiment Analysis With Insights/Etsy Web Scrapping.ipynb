{
 "cells": [
  {
   "cell_type": "code",
   "execution_count": 1,
   "id": "81335409",
   "metadata": {},
   "outputs": [],
   "source": [
    "import requests\n",
    "from bs4 import BeautifulSoup\n",
    "import pandas as pd\n",
    "DATA=pd.DataFrame()"
   ]
  },
  {
   "cell_type": "code",
   "execution_count": 4,
   "id": "de23e06c",
   "metadata": {},
   "outputs": [
    {
     "name": "stdout",
     "output_type": "stream",
     "text": [
      "50\n",
      "51\n",
      "52\n",
      "53\n",
      "54\n",
      "55\n",
      "56\n",
      "57\n",
      "58\n",
      "59\n"
     ]
    }
   ],
   "source": [
    "for i in range(50,60):\n",
    "    print(i)\n",
    "    url='https://www.etsy.com/in-en/c/jewelry/earrings/ear-jackets-and-climbers?ref=pagination&page='+str(i)\n",
    "    source=requests.get(url).text\n",
    "    soup=BeautifulSoup(source,'lxml')\n",
    "    page_1=soup.find_all('div',class_='js-merch-stash-check-listing')\n",
    "    links = []\n",
    "    for j in range(len(page_1)):\n",
    "        for link in page_1[j].find_all('a'):\n",
    "            links.append(link.get('href'))\n",
    "    for x in range(len(links)):\n",
    "        link=links[x]\n",
    "        source=requests.get(link).text\n",
    "        soup=BeautifulSoup(source,'lxml')\n",
    "        page=soup.find_all('div',class_=\"wt-content-toggle--truncated-inline-multi\")\n",
    "        reviews_web=[]\n",
    "        for y in range(len(page)):\n",
    "            for text in page[y].findAll('p'):\n",
    "                reviews_web.append(text.get_text().strip())\n",
    "\n",
    "        for z in range(len(reviews_web)):\n",
    "            DATA=DATA.append({'Product Review': reviews_web[z]}, ignore_index=True)\n",
    "\n",
    "    DATA.to_csv(str(i)+'.csv')"
   ]
  },
  {
   "cell_type": "code",
   "execution_count": null,
   "id": "685ffbf1",
   "metadata": {},
   "outputs": [],
   "source": []
  }
 ],
 "metadata": {
  "kernelspec": {
   "display_name": "Python 3",
   "language": "python",
   "name": "python3"
  },
  "language_info": {
   "codemirror_mode": {
    "name": "ipython",
    "version": 3
   },
   "file_extension": ".py",
   "mimetype": "text/x-python",
   "name": "python",
   "nbconvert_exporter": "python",
   "pygments_lexer": "ipython3",
   "version": "3.8.8"
  }
 },
 "nbformat": 4,
 "nbformat_minor": 5
}
